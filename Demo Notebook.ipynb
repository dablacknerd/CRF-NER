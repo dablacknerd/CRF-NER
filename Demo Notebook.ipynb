{
 "cells": [
  {
   "cell_type": "code",
   "execution_count": 7,
   "metadata": {},
   "outputs": [
    {
     "name": "stdout",
     "output_type": "stream",
     "text": [
      "[['liver', 39, 44, 'ANATOMICAL-ENTITY']]\n"
     ]
    }
   ],
   "source": [
    "from Annotator import Annotator\n",
    "\n",
    "text = \"Patient diagnosed with malignant melanoma of the liver.\"\n",
    "obj = Annotator(text)\n",
    "annotations = obj.get_annotations()\n",
    "print(obj.get_annotations())"
   ]
  },
  {
   "cell_type": "code",
   "execution_count": 8,
   "metadata": {},
   "outputs": [
    {
     "name": "stdout",
     "output_type": "stream",
     "text": [
      "liver\n"
     ]
    }
   ],
   "source": [
    "for annotation in annotations:\n",
    "    print(text[annotation[1]:annotation[2]])"
   ]
  },
  {
   "cell_type": "code",
   "execution_count": null,
   "metadata": {},
   "outputs": [],
   "source": []
  },
  {
   "cell_type": "code",
   "execution_count": null,
   "metadata": {},
   "outputs": [],
   "source": []
  }
 ],
 "metadata": {
  "kernelspec": {
   "display_name": "Python 3",
   "language": "python",
   "name": "python3"
  },
  "language_info": {
   "codemirror_mode": {
    "name": "ipython",
    "version": 3
   },
   "file_extension": ".py",
   "mimetype": "text/x-python",
   "name": "python",
   "nbconvert_exporter": "python",
   "pygments_lexer": "ipython3",
   "version": "3.8.5"
  }
 },
 "nbformat": 4,
 "nbformat_minor": 4
}
