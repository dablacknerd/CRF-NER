{
 "cells": [
  {
   "cell_type": "code",
   "execution_count": 1,
   "metadata": {},
   "outputs": [],
   "source": [
    "import pandas as pd\n",
    "import sklearn_crfsuite\n",
    "from sklearn_crfsuite.metrics import flat_f1_score,flat_classification_report\n",
    "from scipy.stats import expon\n",
    "import warnings\n",
    "\n",
    "from sklearn.exceptions import DataConversionWarning\n",
    "from sklearn.metrics import make_scorer\n",
    "from sklearn.model_selection import cross_val_score\n",
    "from sklearn.model_selection import train_test_split,RandomizedSearchCV\n",
    "from SentenceGetter import SentenceGetter\n",
    "from crf_feature_functions import *"
   ]
  },
  {
   "cell_type": "code",
   "execution_count": 2,
   "metadata": {},
   "outputs": [
    {
     "data": {
      "text/plain": [
       "O                      32517\n",
       "B-ANATOMICAL-ENTITY     1856\n",
       "I-ANATOMICAL-ENTITY      973\n",
       "Name: label, dtype: int64"
      ]
     },
     "execution_count": 2,
     "metadata": {},
     "output_type": "execute_result"
    }
   ],
   "source": [
    "df_train = pd.read_csv('data/new-anem-train-v2.csv')\n",
    "df_train.label.value_counts()"
   ]
  },
  {
   "cell_type": "code",
   "execution_count": 9,
   "metadata": {},
   "outputs": [],
   "source": [
    "getter = SentenceGetter(df_train)\n",
    "sentences = getter.sentences\n",
    "\n",
    "X = [sent2features(s) for s in sentences]\n",
    "y = [sent2labels(s) for s in sentences]\n",
    "\n",
    "seed = 48910412\n",
    "\n",
    "X_train, X_test, y_train, y_test = train_test_split(X, y, test_size=0.20,random_state=seed)\n",
    "\n",
    "labels = df_train.label.unique().tolist()"
   ]
  },
  {
   "cell_type": "code",
   "execution_count": 11,
   "metadata": {},
   "outputs": [],
   "source": [
    "df_validation = pd.read_csv('data/new-anem-test-v2.csv')\n",
    "#df_validation.label.value_counts()\n",
    "\n",
    "getter2 = SentenceGetter(df_validation)\n",
    "sentences2 = getter2.sentences\n",
    "\n",
    "X_validation = [sent2features(s) for s in sentences2]\n",
    "y_validation = [sent2labels(s) for s in sentences2]"
   ]
  },
  {
   "cell_type": "markdown",
   "metadata": {},
   "source": [
    "### CRF using LBFGS algorithm"
   ]
  },
  {
   "cell_type": "code",
   "execution_count": 12,
   "metadata": {},
   "outputs": [
    {
     "name": "stdout",
     "output_type": "stream",
     "text": [
      "Fitting 5 folds for each of 10 candidates, totalling 50 fits\n"
     ]
    },
    {
     "name": "stderr",
     "output_type": "stream",
     "text": [
      "[Parallel(n_jobs=1)]: Using backend SequentialBackend with 1 concurrent workers.\n",
      "[Parallel(n_jobs=1)]: Done  50 out of  50 | elapsed: 11.1min finished\n"
     ]
    }
   ],
   "source": [
    "params_space_lbfgs = {\n",
    "    'min_freq':[0.0,1.0,2.0,3.0],\n",
    "    'c1': expon(scale=0.05),\n",
    "    'c2': expon(scale=0.05),\n",
    "    'all_possible_states':[True,False],\n",
    "    'all_possible_transitions':[True,False],\n",
    "    'max_iterations':[10,100,1000]\n",
    "}\n",
    "\n",
    "f1_scorer_lbfgs = make_scorer(flat_f1_score,average='weighted', labels=labels)\n",
    "\n",
    "crf_lbfgs  = sklearn_crfsuite.CRF(algorithm='lbfgs',max_iterations=1000)\n",
    "\n",
    "gs_lbfgs = RandomizedSearchCV(crf_lbfgs, params_space_lbfgs,cv=5,verbose=1,scoring=f1_scorer_lbfgs)\n",
    "\n",
    "with warnings.catch_warnings():\n",
    "    warnings.simplefilter(\"ignore\")\n",
    "    gs_lbfgs.fit(X_train, y_train)"
   ]
  },
  {
   "cell_type": "code",
   "execution_count": 13,
   "metadata": {},
   "outputs": [
    {
     "name": "stdout",
     "output_type": "stream",
     "text": [
      "best params: {'all_possible_states': True, 'all_possible_transitions': False, 'c1': 0.04203733119847909, 'c2': 0.032226638122811714, 'max_iterations': 1000, 'min_freq': 0.0}\n",
      "best CV score: 0.9745789646873275\n"
     ]
    }
   ],
   "source": [
    "print('best params:', gs_lbfgs.best_params_)\n",
    "print('best CV score:', gs_lbfgs.best_score_)"
   ]
  },
  {
   "cell_type": "code",
   "execution_count": 14,
   "metadata": {},
   "outputs": [
    {
     "name": "stdout",
     "output_type": "stream",
     "text": [
      "0.9815196672076048\n",
      "---------------------------------------------------------------\n",
      "                     precision    recall  f1-score   support\n",
      "\n",
      "                  O       0.99      1.00      0.99      6688\n",
      "B-ANATOMICAL-ENTITY       0.92      0.85      0.88       386\n",
      "I-ANATOMICAL-ENTITY       0.90      0.79      0.84       191\n",
      "\n",
      "           accuracy                           0.98      7265\n",
      "          macro avg       0.93      0.88      0.90      7265\n",
      "       weighted avg       0.98      0.98      0.98      7265\n",
      "\n"
     ]
    }
   ],
   "source": [
    "lbfgs_preds1 = gs_lbfgs.predict(X_test)\n",
    "\n",
    "with warnings.catch_warnings():\n",
    "    warnings.simplefilter(\"ignore\")\n",
    "    print(flat_f1_score(y_test,lbfgs_preds1,average=\"weighted\"))\n",
    "    print(\"---------------------------------------------------------------\")\n",
    "    print(flat_classification_report(y_test,lbfgs_preds1,labels=labels))"
   ]
  },
  {
   "cell_type": "code",
   "execution_count": 15,
   "metadata": {},
   "outputs": [
    {
     "name": "stdout",
     "output_type": "stream",
     "text": [
      "0.9689920373471913\n",
      "---------------------------------------------------------------\n",
      "                     precision    recall  f1-score   support\n",
      "\n",
      "                  O       0.98      0.99      0.99     21561\n",
      "B-ANATOMICAL-ENTITY       0.87      0.71      0.78      1187\n",
      "I-ANATOMICAL-ENTITY       0.81      0.63      0.71       522\n",
      "\n",
      "           accuracy                           0.97     23270\n",
      "          macro avg       0.89      0.78      0.83     23270\n",
      "       weighted avg       0.97      0.97      0.97     23270\n",
      "\n"
     ]
    }
   ],
   "source": [
    "lbfgs_validation_predictions = gs_lbfgs.predict(X_validation)\n",
    "\n",
    "with warnings.catch_warnings():\n",
    "    warnings.simplefilter(\"ignore\")\n",
    "    print(flat_f1_score(y_validation,lbfgs_validation_predictions,average=\"weighted\"))\n",
    "    print(\"---------------------------------------------------------------\")\n",
    "    print(flat_classification_report(y_validation,lbfgs_validation_predictions,labels=labels))"
   ]
  },
  {
   "cell_type": "code",
   "execution_count": 16,
   "metadata": {},
   "outputs": [],
   "source": [
    "lbfgs_crf_model = sklearn_crfsuite.CRF(algorithm ='lbfgs',\n",
    "                                max_iterations =1000,\n",
    "                                c1 = 0.04203733119847909,\n",
    "                                c2 = 0.032226638122811714,\n",
    "                                min_freq = 0.0,\n",
    "                                all_possible_states = True, \n",
    "                                all_possible_transitions = False\n",
    "                               )\n",
    "with warnings.catch_warnings():\n",
    "    warnings.simplefilter(\"ignore\")\n",
    "    lbfgs_crf_model.fit(X,y)"
   ]
  },
  {
   "cell_type": "code",
   "execution_count": 17,
   "metadata": {},
   "outputs": [
    {
     "name": "stdout",
     "output_type": "stream",
     "text": [
      "0.9694836118242657\n",
      "---------------------------------------------------------------\n",
      "                     precision    recall  f1-score   support\n",
      "\n",
      "                  O       0.98      0.99      0.99     21561\n",
      "B-ANATOMICAL-ENTITY       0.87      0.72      0.79      1187\n",
      "I-ANATOMICAL-ENTITY       0.84      0.61      0.71       522\n",
      "\n",
      "           accuracy                           0.97     23270\n",
      "          macro avg       0.89      0.77      0.83     23270\n",
      "       weighted avg       0.97      0.97      0.97     23270\n",
      "\n"
     ]
    }
   ],
   "source": [
    "lbfgs_validation_predictions2 = lbfgs_crf_model.predict(X_validation)\n",
    "\n",
    "with warnings.catch_warnings():\n",
    "    warnings.simplefilter(\"ignore\")\n",
    "    print(flat_f1_score(y_validation,lbfgs_validation_predictions2,average=\"weighted\"))\n",
    "    print(\"---------------------------------------------------------------\")\n",
    "    print(flat_classification_report(y_validation,lbfgs_validation_predictions2,labels=labels))"
   ]
  },
  {
   "cell_type": "markdown",
   "metadata": {},
   "source": [
    "### CRF using L2SGD"
   ]
  },
  {
   "cell_type": "code",
   "execution_count": 18,
   "metadata": {},
   "outputs": [
    {
     "name": "stdout",
     "output_type": "stream",
     "text": [
      "Fitting 5 folds for each of 10 candidates, totalling 50 fits\n"
     ]
    },
    {
     "name": "stderr",
     "output_type": "stream",
     "text": [
      "[Parallel(n_jobs=1)]: Using backend SequentialBackend with 1 concurrent workers.\n",
      "[Parallel(n_jobs=1)]: Done  50 out of  50 | elapsed:  3.0min finished\n"
     ]
    }
   ],
   "source": [
    "params_space_l2sgd = {\n",
    "    'min_freq':[0.0,1.0,2.0,3.0],\n",
    "    'c2': expon(scale=0.05),\n",
    "    'all_possible_states':[True,False],\n",
    "    'all_possible_transitions':[True,False],\n",
    "    'max_iterations':[10,100,1000]\n",
    "}\n",
    "\n",
    "f1_scorer_l2sgd = make_scorer(flat_f1_score,average='weighted', labels=labels)\n",
    "\n",
    "crf_l2sgd  = sklearn_crfsuite.CRF(algorithm='l2sgd',max_iterations=1000)\n",
    "\n",
    "gs_l2sgd = RandomizedSearchCV(crf_l2sgd, params_space_l2sgd,cv=5,verbose=1,scoring=f1_scorer_l2sgd)\n",
    "\n",
    "with warnings.catch_warnings():\n",
    "    warnings.simplefilter(\"ignore\")\n",
    "    gs_l2sgd.fit(X_train, y_train)"
   ]
  },
  {
   "cell_type": "code",
   "execution_count": 19,
   "metadata": {},
   "outputs": [
    {
     "name": "stdout",
     "output_type": "stream",
     "text": [
      "best params: {'all_possible_states': True, 'all_possible_transitions': False, 'c2': 0.0016380793655586846, 'max_iterations': 1000, 'min_freq': 0.0}\n",
      "best CV score: 0.9750586586104447\n"
     ]
    }
   ],
   "source": [
    "print('best params:', gs_l2sgd.best_params_)\n",
    "print('best CV score:', gs_l2sgd.best_score_)"
   ]
  },
  {
   "cell_type": "code",
   "execution_count": 20,
   "metadata": {},
   "outputs": [
    {
     "name": "stdout",
     "output_type": "stream",
     "text": [
      "0.9824427258546494\n",
      "---------------------------------------------------------------\n",
      "                     precision    recall  f1-score   support\n",
      "\n",
      "                  O       0.99      0.99      0.99      6688\n",
      "B-ANATOMICAL-ENTITY       0.92      0.86      0.89       386\n",
      "I-ANATOMICAL-ENTITY       0.90      0.81      0.85       191\n",
      "\n",
      "           accuracy                           0.98      7265\n",
      "          macro avg       0.94      0.89      0.91      7265\n",
      "       weighted avg       0.98      0.98      0.98      7265\n",
      "\n"
     ]
    }
   ],
   "source": [
    "l2sgd_preds1 = gs_l2sgd.predict(X_test)\n",
    "\n",
    "with warnings.catch_warnings():\n",
    "    warnings.simplefilter(\"ignore\")\n",
    "    print(flat_f1_score(y_test,l2sgd_preds1,average=\"weighted\"))\n",
    "    print(\"---------------------------------------------------------------\")\n",
    "    print(flat_classification_report(y_test,l2sgd_preds1,labels=labels))"
   ]
  },
  {
   "cell_type": "code",
   "execution_count": 21,
   "metadata": {},
   "outputs": [
    {
     "name": "stdout",
     "output_type": "stream",
     "text": [
      "0.9692449840762487\n",
      "---------------------------------------------------------------\n",
      "                     precision    recall  f1-score   support\n",
      "\n",
      "                  O       0.98      0.99      0.99     21561\n",
      "B-ANATOMICAL-ENTITY       0.86      0.72      0.79      1187\n",
      "I-ANATOMICAL-ENTITY       0.80      0.64      0.71       522\n",
      "\n",
      "           accuracy                           0.97     23270\n",
      "          macro avg       0.88      0.78      0.83     23270\n",
      "       weighted avg       0.97      0.97      0.97     23270\n",
      "\n"
     ]
    }
   ],
   "source": [
    "l2sgd_validation_predictions = gs_l2sgd.predict(X_validation)\n",
    "\n",
    "with warnings.catch_warnings():\n",
    "    warnings.simplefilter(\"ignore\")\n",
    "    print(flat_f1_score(y_validation,l2sgd_validation_predictions,average=\"weighted\"))\n",
    "    print(\"---------------------------------------------------------------\")\n",
    "    print(flat_classification_report(y_validation,l2sgd_validation_predictions,labels=labels))"
   ]
  },
  {
   "cell_type": "code",
   "execution_count": 24,
   "metadata": {},
   "outputs": [],
   "source": [
    "l2sgd_crf_model = sklearn_crfsuite.CRF(algorithm ='l2sgd',\n",
    "                                max_iterations =1000,\n",
    "                                c2 = 0.0016380793655586846,\n",
    "                                min_freq = 0.0,\n",
    "                                all_possible_states = True, \n",
    "                                all_possible_transitions = False\n",
    "                               )\n",
    "with warnings.catch_warnings():\n",
    "    warnings.simplefilter(\"ignore\")\n",
    "    l2sgd_crf_model.fit(X,y)"
   ]
  },
  {
   "cell_type": "code",
   "execution_count": 25,
   "metadata": {},
   "outputs": [
    {
     "name": "stdout",
     "output_type": "stream",
     "text": [
      "0.968058342881421\n",
      "---------------------------------------------------------------\n",
      "                     precision    recall  f1-score   support\n",
      "\n",
      "                  O       0.98      0.99      0.99     21561\n",
      "B-ANATOMICAL-ENTITY       0.87      0.70      0.78      1187\n",
      "I-ANATOMICAL-ENTITY       0.83      0.60      0.69       522\n",
      "\n",
      "           accuracy                           0.97     23270\n",
      "          macro avg       0.89      0.77      0.82     23270\n",
      "       weighted avg       0.97      0.97      0.97     23270\n",
      "\n"
     ]
    }
   ],
   "source": [
    "l2sgd_validation_predictions2 = l2sgd_crf_model.predict(X_validation)\n",
    "\n",
    "with warnings.catch_warnings():\n",
    "    warnings.simplefilter(\"ignore\")\n",
    "    print(flat_f1_score(y_validation,l2sgd_validation_predictions2,average=\"weighted\"))\n",
    "    print(\"---------------------------------------------------------------\")\n",
    "    print(flat_classification_report(y_validation,l2sgd_validation_predictions2,labels=labels))"
   ]
  },
  {
   "cell_type": "markdown",
   "metadata": {},
   "source": [
    "### CRF using Average Perceptron (AP) algorithm"
   ]
  },
  {
   "cell_type": "code",
   "execution_count": 26,
   "metadata": {},
   "outputs": [
    {
     "name": "stdout",
     "output_type": "stream",
     "text": [
      "Fitting 5 folds for each of 10 candidates, totalling 50 fits\n"
     ]
    },
    {
     "name": "stderr",
     "output_type": "stream",
     "text": [
      "[Parallel(n_jobs=1)]: Using backend SequentialBackend with 1 concurrent workers.\n",
      "[Parallel(n_jobs=1)]: Done  50 out of  50 | elapsed:  4.8min finished\n"
     ]
    }
   ],
   "source": [
    "params_space_ap = {\n",
    "    'min_freq':[0.0,1.0,2.0,3.0],\n",
    "    'all_possible_states':[True,False],\n",
    "    'all_possible_transitions':[True,False],\n",
    "    'max_iterations':[10,100,1000]\n",
    "}\n",
    "\n",
    "f1_scorer_ap = make_scorer(flat_f1_score,average='weighted', labels=labels)\n",
    "\n",
    "crf_ap = sklearn_crfsuite.CRF(algorithm='ap',max_iterations=1000)\n",
    "\n",
    "gs_ap = RandomizedSearchCV(crf_ap, params_space_ap,cv=5,verbose=1,scoring=f1_scorer_ap)\n",
    "\n",
    "with warnings.catch_warnings():\n",
    "    warnings.simplefilter(\"ignore\")\n",
    "    gs_ap.fit(X_train, y_train)"
   ]
  },
  {
   "cell_type": "code",
   "execution_count": 27,
   "metadata": {},
   "outputs": [
    {
     "name": "stdout",
     "output_type": "stream",
     "text": [
      "best params: {'min_freq': 0.0, 'max_iterations': 1000, 'all_possible_transitions': True, 'all_possible_states': True}\n",
      "best CV score: 0.9739323851775911\n"
     ]
    }
   ],
   "source": [
    "print('best params:', gs_ap.best_params_)\n",
    "print('best CV score:', gs_ap.best_score_)"
   ]
  },
  {
   "cell_type": "code",
   "execution_count": 28,
   "metadata": {},
   "outputs": [
    {
     "name": "stdout",
     "output_type": "stream",
     "text": [
      "0.9808707389938891\n",
      "---------------------------------------------------------------\n",
      "                     precision    recall  f1-score   support\n",
      "\n",
      "                  O       0.99      0.99      0.99      6688\n",
      "B-ANATOMICAL-ENTITY       0.89      0.86      0.87       386\n",
      "I-ANATOMICAL-ENTITY       0.89      0.81      0.85       191\n",
      "\n",
      "           accuracy                           0.98      7265\n",
      "          macro avg       0.92      0.89      0.90      7265\n",
      "       weighted avg       0.98      0.98      0.98      7265\n",
      "\n"
     ]
    }
   ],
   "source": [
    "ap_preds1 = gs_ap.predict(X_test)\n",
    "\n",
    "with warnings.catch_warnings():\n",
    "    warnings.simplefilter(\"ignore\")\n",
    "    print(flat_f1_score(y_test,ap_preds1,average=\"weighted\"))\n",
    "    print(\"---------------------------------------------------------------\")\n",
    "    print(flat_classification_report(y_test,ap_preds1,labels=labels))"
   ]
  },
  {
   "cell_type": "code",
   "execution_count": 29,
   "metadata": {},
   "outputs": [
    {
     "name": "stdout",
     "output_type": "stream",
     "text": [
      "0.9661680096443059\n",
      "---------------------------------------------------------------\n",
      "                     precision    recall  f1-score   support\n",
      "\n",
      "                  O       0.98      0.99      0.98     21561\n",
      "B-ANATOMICAL-ENTITY       0.81      0.71      0.76      1187\n",
      "I-ANATOMICAL-ENTITY       0.74      0.63      0.68       522\n",
      "\n",
      "           accuracy                           0.97     23270\n",
      "          macro avg       0.84      0.78      0.81     23270\n",
      "       weighted avg       0.97      0.97      0.97     23270\n",
      "\n"
     ]
    }
   ],
   "source": [
    "ap_validation_predictions = gs_ap.predict(X_validation)\n",
    "\n",
    "with warnings.catch_warnings():\n",
    "    warnings.simplefilter(\"ignore\")\n",
    "    print(flat_f1_score(y_validation,ap_validation_predictions,average=\"weighted\"))\n",
    "    print(\"---------------------------------------------------------------\")\n",
    "    print(flat_classification_report(y_validation,ap_validation_predictions,labels=labels))"
   ]
  },
  {
   "cell_type": "code",
   "execution_count": 30,
   "metadata": {},
   "outputs": [],
   "source": [
    "ap_crf_model = sklearn_crfsuite.CRF(algorithm ='ap',\n",
    "                                max_iterations =1000,\n",
    "                                min_freq = 0.0,\n",
    "                                all_possible_states = True, \n",
    "                                all_possible_transitions = True\n",
    "                               )\n",
    "with warnings.catch_warnings():\n",
    "    warnings.simplefilter(\"ignore\")\n",
    "    ap_crf_model.fit(X,y)"
   ]
  },
  {
   "cell_type": "code",
   "execution_count": 31,
   "metadata": {},
   "outputs": [
    {
     "name": "stdout",
     "output_type": "stream",
     "text": [
      "0.9669731755050099\n",
      "---------------------------------------------------------------\n",
      "                     precision    recall  f1-score   support\n",
      "\n",
      "                  O       0.98      0.99      0.98     21561\n",
      "B-ANATOMICAL-ENTITY       0.81      0.72      0.77      1187\n",
      "I-ANATOMICAL-ENTITY       0.76      0.63      0.69       522\n",
      "\n",
      "           accuracy                           0.97     23270\n",
      "          macro avg       0.85      0.78      0.81     23270\n",
      "       weighted avg       0.97      0.97      0.97     23270\n",
      "\n"
     ]
    }
   ],
   "source": [
    "ap_validation_predictions2 = ap_crf_model.predict(X_validation)\n",
    "\n",
    "with warnings.catch_warnings():\n",
    "    warnings.simplefilter(\"ignore\")\n",
    "    print(flat_f1_score(y_validation,ap_validation_predictions2,average=\"weighted\"))\n",
    "    print(\"---------------------------------------------------------------\")\n",
    "    print(flat_classification_report(y_validation,ap_validation_predictions2,labels=labels))"
   ]
  },
  {
   "cell_type": "markdown",
   "metadata": {},
   "source": [
    "### Clean UP"
   ]
  },
  {
   "cell_type": "code",
   "execution_count": 32,
   "metadata": {},
   "outputs": [],
   "source": [
    "import joblib\n",
    "import pickle\n",
    "import os"
   ]
  },
  {
   "cell_type": "code",
   "execution_count": 33,
   "metadata": {},
   "outputs": [],
   "source": [
    "model_file = os.path.join(os.getcwd(),'models','anatomy-1','anatomy1-ner.sav')\n",
    "pickle.dump(lbfgs_crf_model,open(model_file,'wb'))"
   ]
  },
  {
   "cell_type": "code",
   "execution_count": 34,
   "metadata": {},
   "outputs": [],
   "source": [
    "loaded_model = pickle.load(open(model_file,'rb'))"
   ]
  },
  {
   "cell_type": "code",
   "execution_count": 35,
   "metadata": {},
   "outputs": [
    {
     "data": {
      "text/plain": [
       "0.9712075633863343"
      ]
     },
     "execution_count": 35,
     "metadata": {},
     "output_type": "execute_result"
    }
   ],
   "source": [
    "loaded_model.score(X_validation,y_validation)"
   ]
  },
  {
   "cell_type": "code",
   "execution_count": null,
   "metadata": {},
   "outputs": [],
   "source": []
  }
 ],
 "metadata": {
  "kernelspec": {
   "display_name": "Python 3",
   "language": "python",
   "name": "python3"
  },
  "language_info": {
   "codemirror_mode": {
    "name": "ipython",
    "version": 3
   },
   "file_extension": ".py",
   "mimetype": "text/x-python",
   "name": "python",
   "nbconvert_exporter": "python",
   "pygments_lexer": "ipython3",
   "version": "3.8.5"
  }
 },
 "nbformat": 4,
 "nbformat_minor": 4
}
