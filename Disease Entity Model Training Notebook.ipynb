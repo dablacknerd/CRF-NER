{
 "cells": [
  {
   "cell_type": "code",
   "execution_count": 1,
   "metadata": {},
   "outputs": [],
   "source": [
    "import pandas as pd\n",
    "import sklearn_crfsuite\n",
    "from sklearn_crfsuite.metrics import flat_f1_score,flat_classification_report\n",
    "from scipy.stats import expon\n",
    "import warnings\n",
    "import joblib\n",
    "\n",
    "from sklearn.exceptions import DataConversionWarning\n",
    "from sklearn.metrics import make_scorer\n",
    "from sklearn.model_selection import cross_val_score\n",
    "from sklearn.model_selection import train_test_split,RandomizedSearchCV\n",
    "from SentenceGetter import SentenceGetter\n",
    "from crf_feature_functions import *"
   ]
  },
  {
   "cell_type": "code",
   "execution_count": 2,
   "metadata": {},
   "outputs": [
    {
     "data": {
      "text/plain": [
       "O            235444\n",
       "B-DISEASE      9312\n",
       "I-DISEASE      9029\n",
       "Name: label, dtype: int64"
      ]
     },
     "execution_count": 2,
     "metadata": {},
     "output_type": "execute_result"
    }
   ],
   "source": [
    "df_train = pd.read_csv('data/gc5cdr-ncbi-disease-train.csv')\n",
    "df_train.label.value_counts()"
   ]
  },
  {
   "cell_type": "code",
   "execution_count": 3,
   "metadata": {},
   "outputs": [],
   "source": [
    "getter = SentenceGetter(df_train)\n",
    "sentences = getter.sentences\n",
    "\n",
    "X = [sent2features(s) for s in sentences]\n",
    "y = [sent2labels(s) for s in sentences]\n",
    "\n",
    "seed = 48910412\n",
    "\n",
    "X_train, X_test, y_train, y_test = train_test_split(X, y, test_size=0.20,random_state=seed)\n",
    "\n",
    "labels = df_train.label.unique().tolist()"
   ]
  },
  {
   "cell_type": "code",
   "execution_count": 4,
   "metadata": {},
   "outputs": [
    {
     "name": "stderr",
     "output_type": "stream",
     "text": [
      "/Users/tom/Documents/Personal/MetiStream/metistream/lib/python3.8/site-packages/IPython/core/interactiveshell.py:3146: DtypeWarning: Columns (0) have mixed types.Specify dtype option on import or set low_memory=False.\n",
      "  has_raised = await self.run_ast_nodes(code_ast.body, cell_name,\n"
     ]
    }
   ],
   "source": [
    "df_validation = pd.read_csv('data/gc5cdr-ncbi-disease-test.csv')\n",
    "#df_validation.label.value_counts()\n",
    "\n",
    "getter2 = SentenceGetter(df_validation)\n",
    "sentences2 = getter2.sentences\n",
    "\n",
    "X_validation = [sent2features(s) for s in sentences2]\n",
    "y_validation = [sent2labels(s) for s in sentences2]"
   ]
  },
  {
   "cell_type": "markdown",
   "metadata": {},
   "source": [
    "### CRF using LBFGS algorithm"
   ]
  },
  {
   "cell_type": "code",
   "execution_count": 5,
   "metadata": {},
   "outputs": [
    {
     "name": "stdout",
     "output_type": "stream",
     "text": [
      "Fitting 5 folds for each of 10 candidates, totalling 50 fits\n"
     ]
    },
    {
     "name": "stderr",
     "output_type": "stream",
     "text": [
      "[Parallel(n_jobs=1)]: Using backend SequentialBackend with 1 concurrent workers.\n",
      "[Parallel(n_jobs=1)]: Done  50 out of  50 | elapsed: 65.4min finished\n"
     ]
    }
   ],
   "source": [
    "params_space_lbfgs = {\n",
    "    'min_freq':[0.0,1.0,2.0,3.0],\n",
    "    'c1': expon(scale=0.05),\n",
    "    'c2': expon(scale=0.05),\n",
    "    'all_possible_states':[True,False],\n",
    "    'all_possible_transitions':[True,False],\n",
    "    'max_iterations':[10,100,1000]\n",
    "}\n",
    "\n",
    "f1_scorer_lbfgs = make_scorer(flat_f1_score,average='weighted', labels=labels)\n",
    "\n",
    "crf_lbfgs  = sklearn_crfsuite.CRF(algorithm='lbfgs',max_iterations=1000)\n",
    "\n",
    "gs_lbfgs = RandomizedSearchCV(crf_lbfgs, params_space_lbfgs,cv=5,verbose=1,scoring=f1_scorer_lbfgs)\n",
    "\n",
    "with warnings.catch_warnings():\n",
    "    warnings.simplefilter(\"ignore\")\n",
    "    gs_lbfgs.fit(X_train, y_train)"
   ]
  },
  {
   "cell_type": "code",
   "execution_count": 6,
   "metadata": {},
   "outputs": [
    {
     "name": "stdout",
     "output_type": "stream",
     "text": [
      "best params: {'all_possible_states': True, 'all_possible_transitions': True, 'c1': 0.04991068081941039, 'c2': 0.06691356342155838, 'max_iterations': 100, 'min_freq': 0.0}\n",
      "best CV score: 0.9797925718230948\n"
     ]
    }
   ],
   "source": [
    "print('best params:', gs_lbfgs.best_params_)\n",
    "print('best CV score:', gs_lbfgs.best_score_)"
   ]
  },
  {
   "cell_type": "code",
   "execution_count": 7,
   "metadata": {},
   "outputs": [
    {
     "name": "stdout",
     "output_type": "stream",
     "text": [
      "0.9805928672011779\n",
      "---------------------------------------------------------------\n",
      "              precision    recall  f1-score   support\n",
      "\n",
      "   B-DISEASE       0.89      0.85      0.87      1857\n",
      "   I-DISEASE       0.87      0.77      0.82      1802\n",
      "\n",
      "   micro avg       0.88      0.81      0.84      3659\n",
      "   macro avg       0.88      0.81      0.84      3659\n",
      "weighted avg       0.88      0.81      0.84      3659\n",
      "\n"
     ]
    }
   ],
   "source": [
    "lbfgs_preds1 = gs_lbfgs.predict(X_test)\n",
    "\n",
    "with warnings.catch_warnings():\n",
    "    warnings.simplefilter(\"ignore\")\n",
    "    print(flat_f1_score(y_test,lbfgs_preds1,average=\"weighted\"))\n",
    "    print(\"---------------------------------------------------------------\")\n",
    "    print(flat_classification_report(y_test,lbfgs_preds1,labels=labels[1:]))"
   ]
  },
  {
   "cell_type": "code",
   "execution_count": 8,
   "metadata": {},
   "outputs": [
    {
     "name": "stdout",
     "output_type": "stream",
     "text": [
      "0.9732180407294377\n",
      "---------------------------------------------------------------\n",
      "              precision    recall  f1-score   support\n",
      "\n",
      "   B-DISEASE       0.86      0.78      0.81       960\n",
      "   I-DISEASE       0.85      0.78      0.81      1087\n",
      "\n",
      "   micro avg       0.85      0.78      0.81      2047\n",
      "   macro avg       0.85      0.78      0.81      2047\n",
      "weighted avg       0.85      0.78      0.81      2047\n",
      "\n"
     ]
    }
   ],
   "source": [
    "lbfgs_validation_predictions = gs_lbfgs.predict(X_validation)\n",
    "\n",
    "with warnings.catch_warnings():\n",
    "    warnings.simplefilter(\"ignore\")\n",
    "    print(flat_f1_score(y_validation,lbfgs_validation_predictions,average=\"weighted\"))\n",
    "    print(\"---------------------------------------------------------------\")\n",
    "    print(flat_classification_report(y_validation,lbfgs_validation_predictions,labels=labels[1:]))"
   ]
  },
  {
   "cell_type": "code",
   "execution_count": 17,
   "metadata": {},
   "outputs": [],
   "source": [
    "lbfgs_crf_model = sklearn_crfsuite.CRF(algorithm ='lbfgs',\n",
    "                                max_iterations =100,\n",
    "                                c1 = 0.04991068081941039,\n",
    "                                c2 = 0.06691356342155838,\n",
    "                                min_freq = 0.0,\n",
    "                                all_possible_states = True, \n",
    "                                all_possible_transitions = True\n",
    "                               )\n",
    "with warnings.catch_warnings():\n",
    "    warnings.simplefilter(\"ignore\")\n",
    "    lbfgs_crf_model.fit(X,y)"
   ]
  },
  {
   "cell_type": "code",
   "execution_count": 20,
   "metadata": {},
   "outputs": [
    {
     "name": "stdout",
     "output_type": "stream",
     "text": [
      "0.9714783831245982\n",
      "---------------------------------------------------------------\n",
      "              precision    recall  f1-score   support\n",
      "\n",
      "   B-DISEASE       0.84      0.76      0.80       960\n",
      "   I-DISEASE       0.84      0.76      0.80      1087\n",
      "\n",
      "   micro avg       0.84      0.76      0.80      2047\n",
      "   macro avg       0.84      0.76      0.80      2047\n",
      "weighted avg       0.84      0.76      0.80      2047\n",
      "\n"
     ]
    }
   ],
   "source": [
    "lbfgs_validation_predictions2 = lbfgs_crf_model.predict(X_validation)\n",
    "\n",
    "with warnings.catch_warnings():\n",
    "    warnings.simplefilter(\"ignore\")\n",
    "    print(flat_f1_score(y_validation,lbfgs_validation_predictions2,average=\"weighted\"))\n",
    "    print(\"---------------------------------------------------------------\")\n",
    "    print(flat_classification_report(y_validation,lbfgs_validation_predictions2,labels=labels[1:]))"
   ]
  },
  {
   "cell_type": "markdown",
   "metadata": {},
   "source": [
    "### CRF using L2SGD"
   ]
  },
  {
   "cell_type": "code",
   "execution_count": 9,
   "metadata": {},
   "outputs": [
    {
     "name": "stdout",
     "output_type": "stream",
     "text": [
      "Fitting 5 folds for each of 10 candidates, totalling 50 fits\n"
     ]
    },
    {
     "name": "stderr",
     "output_type": "stream",
     "text": [
      "[Parallel(n_jobs=1)]: Using backend SequentialBackend with 1 concurrent workers.\n",
      "[Parallel(n_jobs=1)]: Done  50 out of  50 | elapsed: 12.2min finished\n"
     ]
    }
   ],
   "source": [
    "params_space_l2sgd = {\n",
    "    'min_freq':[0.0,1.0,2.0,3.0],\n",
    "    'c2': expon(scale=0.05),\n",
    "    'all_possible_states':[True,False],\n",
    "    'all_possible_transitions':[True,False],\n",
    "    'max_iterations':[10,100,1000]\n",
    "}\n",
    "\n",
    "f1_scorer_l2sgd = make_scorer(flat_f1_score,average='weighted', labels=labels)\n",
    "\n",
    "crf_l2sgd  = sklearn_crfsuite.CRF(algorithm='l2sgd',max_iterations=1000)\n",
    "\n",
    "gs_l2sgd = RandomizedSearchCV(crf_l2sgd, params_space_l2sgd,cv=5,verbose=1,scoring=f1_scorer_l2sgd)\n",
    "\n",
    "with warnings.catch_warnings():\n",
    "    warnings.simplefilter(\"ignore\")\n",
    "    gs_l2sgd.fit(X_train, y_train)"
   ]
  },
  {
   "cell_type": "code",
   "execution_count": 10,
   "metadata": {},
   "outputs": [
    {
     "name": "stdout",
     "output_type": "stream",
     "text": [
      "best params: {'all_possible_states': True, 'all_possible_transitions': True, 'c2': 0.08073422801181261, 'max_iterations': 1000, 'min_freq': 0.0}\n",
      "best CV score: 0.9799432693812055\n"
     ]
    }
   ],
   "source": [
    "print('best params:', gs_l2sgd.best_params_)\n",
    "print('best CV score:', gs_l2sgd.best_score_)"
   ]
  },
  {
   "cell_type": "code",
   "execution_count": 11,
   "metadata": {},
   "outputs": [
    {
     "name": "stdout",
     "output_type": "stream",
     "text": [
      "0.9804848400992554\n",
      "---------------------------------------------------------------\n",
      "              precision    recall  f1-score   support\n",
      "\n",
      "   B-DISEASE       0.90      0.84      0.87      1857\n",
      "   I-DISEASE       0.89      0.76      0.82      1802\n",
      "\n",
      "   micro avg       0.89      0.80      0.84      3659\n",
      "   macro avg       0.89      0.80      0.84      3659\n",
      "weighted avg       0.89      0.80      0.84      3659\n",
      "\n"
     ]
    }
   ],
   "source": [
    "l2sgd_preds1 = gs_l2sgd.predict(X_test)\n",
    "\n",
    "with warnings.catch_warnings():\n",
    "    warnings.simplefilter(\"ignore\")\n",
    "    print(flat_f1_score(y_test,l2sgd_preds1,average=\"weighted\"))\n",
    "    print(\"---------------------------------------------------------------\")\n",
    "    print(flat_classification_report(y_test,l2sgd_preds1,labels=labels[1:]))"
   ]
  },
  {
   "cell_type": "code",
   "execution_count": 12,
   "metadata": {},
   "outputs": [
    {
     "name": "stdout",
     "output_type": "stream",
     "text": [
      "0.9714168804967231\n",
      "---------------------------------------------------------------\n",
      "              precision    recall  f1-score   support\n",
      "\n",
      "   B-DISEASE       0.86      0.76      0.81       960\n",
      "   I-DISEASE       0.86      0.74      0.80      1087\n",
      "\n",
      "   micro avg       0.86      0.75      0.80      2047\n",
      "   macro avg       0.86      0.75      0.80      2047\n",
      "weighted avg       0.86      0.75      0.80      2047\n",
      "\n"
     ]
    }
   ],
   "source": [
    "l2sgd_validation_predictions = gs_l2sgd.predict(X_validation)\n",
    "\n",
    "with warnings.catch_warnings():\n",
    "    warnings.simplefilter(\"ignore\")\n",
    "    print(flat_f1_score(y_validation,l2sgd_validation_predictions,average=\"weighted\"))\n",
    "    print(\"---------------------------------------------------------------\")\n",
    "    print(flat_classification_report(y_validation,l2sgd_validation_predictions,labels=labels[1:]))"
   ]
  },
  {
   "cell_type": "code",
   "execution_count": 21,
   "metadata": {},
   "outputs": [],
   "source": [
    "l2sgd_crf_model = sklearn_crfsuite.CRF(algorithm ='l2sgd',\n",
    "                                max_iterations =1000,\n",
    "                                c2 = 0.08073422801181261,\n",
    "                                min_freq = 0.0,\n",
    "                                all_possible_states = True, \n",
    "                                all_possible_transitions = True\n",
    "                               )\n",
    "with warnings.catch_warnings():\n",
    "    warnings.simplefilter(\"ignore\")\n",
    "    l2sgd_crf_model.fit(X,y)"
   ]
  },
  {
   "cell_type": "code",
   "execution_count": 22,
   "metadata": {},
   "outputs": [
    {
     "name": "stdout",
     "output_type": "stream",
     "text": [
      "0.9709921726026618\n",
      "---------------------------------------------------------------\n",
      "              precision    recall  f1-score   support\n",
      "\n",
      "   B-DISEASE       0.85      0.77      0.81       960\n",
      "   I-DISEASE       0.85      0.74      0.79      1087\n",
      "\n",
      "   micro avg       0.85      0.75      0.80      2047\n",
      "   macro avg       0.85      0.75      0.80      2047\n",
      "weighted avg       0.85      0.75      0.80      2047\n",
      "\n"
     ]
    }
   ],
   "source": [
    "l2sgd_validation_predictions2 = l2sgd_crf_model.predict(X_validation)\n",
    "\n",
    "with warnings.catch_warnings():\n",
    "    warnings.simplefilter(\"ignore\")\n",
    "    print(flat_f1_score(y_validation,l2sgd_validation_predictions2,average=\"weighted\"))\n",
    "    print(\"---------------------------------------------------------------\")\n",
    "    print(flat_classification_report(y_validation,l2sgd_validation_predictions2,labels=labels[1:]))"
   ]
  },
  {
   "cell_type": "markdown",
   "metadata": {},
   "source": [
    "### CRF using Average Perceptron (AP) algorithm"
   ]
  },
  {
   "cell_type": "code",
   "execution_count": 13,
   "metadata": {},
   "outputs": [
    {
     "name": "stdout",
     "output_type": "stream",
     "text": [
      "Fitting 5 folds for each of 10 candidates, totalling 50 fits\n"
     ]
    },
    {
     "name": "stderr",
     "output_type": "stream",
     "text": [
      "[Parallel(n_jobs=1)]: Using backend SequentialBackend with 1 concurrent workers.\n",
      "[Parallel(n_jobs=1)]: Done  50 out of  50 | elapsed: 18.3min finished\n"
     ]
    }
   ],
   "source": [
    "params_space_ap = {\n",
    "    'min_freq':[0.0,1.0,2.0,3.0],\n",
    "    'all_possible_states':[True,False],\n",
    "    'all_possible_transitions':[True,False],\n",
    "    'max_iterations':[10,100,1000]\n",
    "}\n",
    "\n",
    "f1_scorer_ap = make_scorer(flat_f1_score,average='weighted', labels=labels)\n",
    "\n",
    "crf_ap = sklearn_crfsuite.CRF(algorithm='ap',max_iterations=1000)\n",
    "\n",
    "gs_ap = RandomizedSearchCV(crf_ap, params_space_ap,cv=5,verbose=1,scoring=f1_scorer_ap)\n",
    "\n",
    "with warnings.catch_warnings():\n",
    "    warnings.simplefilter(\"ignore\")\n",
    "    gs_ap.fit(X_train, y_train)"
   ]
  },
  {
   "cell_type": "code",
   "execution_count": 14,
   "metadata": {},
   "outputs": [
    {
     "name": "stdout",
     "output_type": "stream",
     "text": [
      "best params: {'min_freq': 2.0, 'max_iterations': 100, 'all_possible_transitions': True, 'all_possible_states': True}\n",
      "best CV score: 0.9786478301549139\n"
     ]
    }
   ],
   "source": [
    "print('best params:', gs_ap.best_params_)\n",
    "print('best CV score:', gs_ap.best_score_)"
   ]
  },
  {
   "cell_type": "code",
   "execution_count": 15,
   "metadata": {},
   "outputs": [
    {
     "name": "stdout",
     "output_type": "stream",
     "text": [
      "0.9799889073370782\n",
      "---------------------------------------------------------------\n",
      "              precision    recall  f1-score   support\n",
      "\n",
      "   B-DISEASE       0.87      0.84      0.86      1857\n",
      "   I-DISEASE       0.90      0.75      0.82      1802\n",
      "\n",
      "   micro avg       0.88      0.80      0.84      3659\n",
      "   macro avg       0.88      0.80      0.84      3659\n",
      "weighted avg       0.88      0.80      0.84      3659\n",
      "\n"
     ]
    }
   ],
   "source": [
    "ap_preds1 = gs_ap.predict(X_test)\n",
    "\n",
    "with warnings.catch_warnings():\n",
    "    warnings.simplefilter(\"ignore\")\n",
    "    print(flat_f1_score(y_test,ap_preds1,average=\"weighted\"))\n",
    "    print(\"---------------------------------------------------------------\")\n",
    "    print(flat_classification_report(y_test,ap_preds1,labels=labels[1:]))"
   ]
  },
  {
   "cell_type": "code",
   "execution_count": 16,
   "metadata": {},
   "outputs": [
    {
     "name": "stdout",
     "output_type": "stream",
     "text": [
      "0.9726788008734242\n",
      "---------------------------------------------------------------\n",
      "              precision    recall  f1-score   support\n",
      "\n",
      "   B-DISEASE       0.84      0.79      0.81       960\n",
      "   I-DISEASE       0.90      0.73      0.81      1087\n",
      "\n",
      "   micro avg       0.87      0.76      0.81      2047\n",
      "   macro avg       0.87      0.76      0.81      2047\n",
      "weighted avg       0.87      0.76      0.81      2047\n",
      "\n"
     ]
    }
   ],
   "source": [
    "ap_validation_predictions = gs_ap.predict(X_validation)\n",
    "\n",
    "with warnings.catch_warnings():\n",
    "    warnings.simplefilter(\"ignore\")\n",
    "    print(flat_f1_score(y_validation,ap_validation_predictions,average=\"weighted\"))\n",
    "    print(\"---------------------------------------------------------------\")\n",
    "    print(flat_classification_report(y_validation,ap_validation_predictions,labels=labels[1:]))"
   ]
  },
  {
   "cell_type": "code",
   "execution_count": 7,
   "metadata": {},
   "outputs": [
    {
     "data": {
      "text/plain": [
       "1709"
      ]
     },
     "execution_count": 7,
     "metadata": {},
     "output_type": "execute_result"
    }
   ],
   "source": [
    "#((0.79 * 1187) + (0.71 * 522))/\n",
    "(1187 + 522)"
   ]
  },
  {
   "cell_type": "code",
   "execution_count": 23,
   "metadata": {},
   "outputs": [],
   "source": [
    "ap_crf_model = sklearn_crfsuite.CRF(algorithm ='ap',\n",
    "                                max_iterations =100,\n",
    "                                min_freq = 2.0,\n",
    "                                all_possible_states = True, \n",
    "                                all_possible_transitions = True\n",
    "                               )\n",
    "with warnings.catch_warnings():\n",
    "    warnings.simplefilter(\"ignore\")\n",
    "    ap_crf_model.fit(X,y)"
   ]
  },
  {
   "cell_type": "code",
   "execution_count": 24,
   "metadata": {},
   "outputs": [
    {
     "name": "stdout",
     "output_type": "stream",
     "text": [
      "0.9725042699419075\n",
      "---------------------------------------------------------------\n",
      "              precision    recall  f1-score   support\n",
      "\n",
      "   B-DISEASE       0.83      0.78      0.81       960\n",
      "   I-DISEASE       0.90      0.74      0.81      1087\n",
      "\n",
      "   micro avg       0.86      0.76      0.81      2047\n",
      "   macro avg       0.86      0.76      0.81      2047\n",
      "weighted avg       0.86      0.76      0.81      2047\n",
      "\n"
     ]
    }
   ],
   "source": [
    "ap_validation_predictions2 = ap_crf_model.predict(X_validation)\n",
    "\n",
    "with warnings.catch_warnings():\n",
    "    warnings.simplefilter(\"ignore\")\n",
    "    print(flat_f1_score(y_validation,ap_validation_predictions2,average=\"weighted\"))\n",
    "    print(\"---------------------------------------------------------------\")\n",
    "    print(flat_classification_report(y_validation,ap_validation_predictions2,labels=labels[1:]))"
   ]
  },
  {
   "cell_type": "code",
   "execution_count": 25,
   "metadata": {},
   "outputs": [],
   "source": [
    "import joblib\n",
    "import pickle\n",
    "import os"
   ]
  },
  {
   "cell_type": "code",
   "execution_count": 26,
   "metadata": {},
   "outputs": [],
   "source": [
    "model_file = os.path.join(os.getcwd(),'models','disease','disease-ner.sav')\n",
    "pickle.dump(gs_ap,open(model_file,'wb'))"
   ]
  },
  {
   "cell_type": "code",
   "execution_count": null,
   "metadata": {},
   "outputs": [],
   "source": []
  }
 ],
 "metadata": {
  "kernelspec": {
   "display_name": "Python 3",
   "language": "python",
   "name": "python3"
  },
  "language_info": {
   "codemirror_mode": {
    "name": "ipython",
    "version": 3
   },
   "file_extension": ".py",
   "mimetype": "text/x-python",
   "name": "python",
   "nbconvert_exporter": "python",
   "pygments_lexer": "ipython3",
   "version": "3.8.5"
  }
 },
 "nbformat": 4,
 "nbformat_minor": 4
}
